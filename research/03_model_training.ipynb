{
 "cells": [
  {
   "cell_type": "code",
   "execution_count": 1,
   "metadata": {},
   "outputs": [],
   "source": [
    "import os"
   ]
  },
  {
   "cell_type": "code",
   "execution_count": 2,
   "metadata": {},
   "outputs": [],
   "source": [
    "os.chdir('..')"
   ]
  },
  {
   "cell_type": "code",
   "execution_count": 3,
   "metadata": {},
   "outputs": [
    {
     "data": {
      "text/plain": [
       "'c:\\\\Users\\\\Kushal\\\\Documents\\\\GitHub\\\\kidney-disease-classification'"
      ]
     },
     "execution_count": 3,
     "metadata": {},
     "output_type": "execute_result"
    }
   ],
   "source": [
    "%pwd"
   ]
  },
  {
   "cell_type": "code",
   "execution_count": 5,
   "metadata": {},
   "outputs": [],
   "source": [
    "from dataclasses import dataclass\n",
    "from pathlib import Path\n",
    "\n",
    "@dataclass(frozen=True)\n",
    "class TrainingConfig:\n",
    "    root_dir: Path\n",
    "    base_model_path: Path\n",
    "    trained_model_path: Path\n",
    "    training_data_path: Path\n",
    "    params_num_epochs: int\n",
    "    params_learning_rate: float\n",
    "    params_batch_size: int"
   ]
  },
  {
   "cell_type": "code",
   "execution_count": 6,
   "metadata": {},
   "outputs": [],
   "source": [
    "from classifier.constants import CONFIG_FILE_PATH, PARAMS_FILE_PATH\n",
    "from classifier.utils.common import read_yaml, create_directories"
   ]
  },
  {
   "cell_type": "code",
   "execution_count": 7,
   "metadata": {},
   "outputs": [],
   "source": [
    "import torch"
   ]
  },
  {
   "cell_type": "code",
   "execution_count": null,
   "metadata": {},
   "outputs": [],
   "source": [
    "class ConfigurationManager:\n",
    "    def __init__(self, config_filepath = CONFIG_FILE_PATH, params_filepath = PARAMS_FILE_PATH):\n",
    "        self.config = read_yaml(config_filepath)\n",
    "        self.params = read_yaml(params_filepath)\n",
    "        create_directories([self.config.artifacts_root])\n",
    "\n",
    "    def get_training_config(self) -> TrainingConfig:\n",
    "        training_config = self.config.training\n",
    "        base_model_config = self.config.prepare_base_model\n",
    "        data_ingestion_config = self.config.data_ingestion\n",
    "        params = self.params\n",
    "        create_directories([training_config.root_dir])\n",
    "\n",
    "        training_data_path_ = os.path.join(self.config.data_ingestion, 'kidney-ct-scan-image')\n",
    "\n",
    "        training_config = TrainingConfig(\n",
    "            root_dir = Path(training_config.root_dir),\n",
    "            base_model_path = Path(base_model_config.base_model_path),\n",
    "            trained_model_path = Path(training_config.trained_model_path),\n",
    "            training_data_path = Path(training_data_path_),\n",
    "            params_num_epochs = params.EPOCHS,\n",
    "            params_learning_rate = params.LEARNING_RATE,\n",
    "            params_batch_size = params.BATCH_SIZE\n",
    "            )\n",
    "        \n",
    "        return training_config\n",
    "\n",
    "\n",
    "    # base_model_path: Path\n",
    "    # trained_model_path: Path\n",
    "    # params_num_epochs: int\n",
    "    # params_learning_rate: float\n"
   ]
  }
 ],
 "metadata": {
  "kernelspec": {
   "display_name": "kidney-disease",
   "language": "python",
   "name": "python3"
  },
  "language_info": {
   "codemirror_mode": {
    "name": "ipython",
    "version": 3
   },
   "file_extension": ".py",
   "mimetype": "text/x-python",
   "name": "python",
   "nbconvert_exporter": "python",
   "pygments_lexer": "ipython3",
   "version": "3.8.19"
  }
 },
 "nbformat": 4,
 "nbformat_minor": 2
}
