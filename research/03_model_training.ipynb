{
 "cells": [
  {
   "cell_type": "code",
   "execution_count": 1,
   "metadata": {},
   "outputs": [],
   "source": [
    "import os"
   ]
  },
  {
   "cell_type": "code",
   "execution_count": 2,
   "metadata": {},
   "outputs": [],
   "source": [
    "os.chdir('..')"
   ]
  },
  {
   "cell_type": "code",
   "execution_count": 3,
   "metadata": {},
   "outputs": [
    {
     "data": {
      "text/plain": [
       "'c:\\\\Users\\\\Kushal\\\\Documents\\\\GitHub\\\\kidney-disease-classification'"
      ]
     },
     "execution_count": 3,
     "metadata": {},
     "output_type": "execute_result"
    }
   ],
   "source": [
    "%pwd"
   ]
  },
  {
   "cell_type": "code",
   "execution_count": 4,
   "metadata": {},
   "outputs": [],
   "source": [
    "from dataclasses import dataclass\n",
    "from pathlib import Path\n",
    "\n",
    "@dataclass(frozen=True)\n",
    "class TrainingConfig:\n",
    "    root_dir: Path\n",
    "    base_model_path: Path\n",
    "    trained_model_path: Path\n",
    "    training_data_path: Path\n",
    "    params_num_epochs: int\n",
    "    params_learning_rate: float\n",
    "    params_batch_size: int"
   ]
  },
  {
   "cell_type": "code",
   "execution_count": 5,
   "metadata": {},
   "outputs": [],
   "source": [
    "from classifier.constants import CONFIG_FILE_PATH, PARAMS_FILE_PATH\n",
    "from classifier.utils.common import read_yaml, create_directories"
   ]
  },
  {
   "cell_type": "code",
   "execution_count": 6,
   "metadata": {},
   "outputs": [],
   "source": [
    "import torch\n",
    "import torch.nn as nn\n",
    "import torch.optim as optim\n",
    "from torch.utils.data import DataLoader, random_split\n",
    "import torch.nn.functional as F\n",
    "import numpy as np\n",
    "import torchvision\n",
    "from torchvision import datasets, models, transforms"
   ]
  },
  {
   "cell_type": "code",
   "execution_count": 21,
   "metadata": {},
   "outputs": [],
   "source": [
    "class ConfigurationManager:\n",
    "    \"\"\"Read config file and create config objects for each task\"\"\"\n",
    "    def __init__(self, config_filepath = CONFIG_FILE_PATH, params_filepath = PARAMS_FILE_PATH):\n",
    "        self.config = read_yaml(config_filepath)\n",
    "        self.params = read_yaml(params_filepath)\n",
    "        create_directories([self.config.artifacts_root])\n",
    "\n",
    "    def get_training_config(self) -> TrainingConfig:\n",
    "        \"\"\"Method to get configuration for model training\"\"\"\n",
    "        training_config = self.config.training\n",
    "        base_model_config = self.config.prepare_base_model\n",
    "        data_ingestion_config = self.config.data_ingestion\n",
    "        params = self.params\n",
    "        create_directories([training_config.root_dir])\n",
    "\n",
    "        training_data_path_ = os.path.join(data_ingestion_config.unzip_dir, 'kidney-ct-scan-image')\n",
    "\n",
    "        training_config = TrainingConfig(\n",
    "            root_dir = Path(training_config.root_dir),\n",
    "            base_model_path = Path(base_model_config.base_model_path),\n",
    "            trained_model_path = Path(training_config.trained_model_path),\n",
    "            training_data_path = Path(training_data_path_),\n",
    "            params_num_epochs = params.EPOCHS,\n",
    "            params_learning_rate = params.LEARNING_RATE,\n",
    "            params_batch_size = params.BATCH_SIZE\n",
    "            )\n",
    "        \n",
    "        return training_config"
   ]
  },
  {
   "cell_type": "code",
   "execution_count": 60,
   "metadata": {},
   "outputs": [],
   "source": [
    "class Training:\n",
    "    def __init__(self, config: TrainingConfig):\n",
    "        self.config = config\n",
    "        self.loss = []\n",
    "        self.criterion = torch.nn.CrossEntropyLoss() \n",
    "        self.device = torch.device('cuda') if torch.cuda.is_available() else torch.device('cpu')\n",
    "    \n",
    "    def get_base_model(self):\n",
    "        \"\"\"Get the base model created in prepare_base_model step\"\"\"\n",
    "        config = self.config\n",
    "        model = models.resnet18()\n",
    "        optimizer = torch.optim.Adam(model.parameters())\n",
    "        checkpoint = torch.load(config.base_model_path)\n",
    "        epoch = checkpoint['epoch']\n",
    "\n",
    "        num_ftrs = model.fc.in_features\n",
    "        # Here the size of each output sample is set to 2.\n",
    "        model.fc = nn.Linear(num_ftrs, 2)\n",
    "\n",
    "        model.load_state_dict(checkpoint['model_state_dict'])\n",
    "        optimizer.load_state_dict(checkpoint['optimizer_state_dict'])\n",
    "\n",
    "        self.model = model\n",
    "        self.optimizer = optimizer\n",
    "    \n",
    "    def train_val_generator(self):\n",
    "        \"\"\"Method to create training and validation data generator; 80% training, 20% validation\"\"\"\n",
    "        config = self.config\n",
    "        transform = transforms.Compose([\n",
    "                    transforms.Resize((224, 224)),\n",
    "                    transforms.ToTensor(),\n",
    "                    transforms.Normalize(mean=[0.485, 0.456, 0.406], std=[0.229, 0.224, 0.225])\n",
    "                ])\n",
    "        \n",
    "        # Load the datasets with ImageFolder\n",
    "        dataset = datasets.ImageFolder(config.training_data_path, transform = transform)\n",
    "        \n",
    "        train_size = int(0.8 * len(dataset))\n",
    "        val_size = len(dataset) - train_size\n",
    "        train_dataset, val_dataset = random_split(dataset, [train_size, val_size])\n",
    "\n",
    "        # Define the data loaders\n",
    "        self.train_loader = DataLoader(train_dataset, batch_size=config.params_batch_size,\n",
    "                                        shuffle=True)\n",
    "        \n",
    "        self.val_loader = DataLoader(val_dataset, batch_size=config.params_batch_size, \n",
    "                                     shuffle=False)\n",
    "        \n",
    "    def _evaluate(self, data_loader):\n",
    "        \"\"\"Method to evaluate the model and report accuracy\"\"\"\n",
    "        model = self.model\n",
    "        model.eval()\n",
    "        correct = 0\n",
    "        total = 0\n",
    "        with torch.no_grad():\n",
    "            for images, labels in data_loader:\n",
    "                images, labels = images.to(self.device), labels.to(self.device)\n",
    "                outputs = model(images)\n",
    "                probs = F.softmax(outputs, 1)\n",
    "                _, predicted = torch.max(outputs, 1)\n",
    "                total += labels.size(0)\n",
    "                correct += (predicted == labels).sum().item()\n",
    "        accuracy = 100 * correct / total\n",
    "        print(f'Validation Accuracy: {accuracy:.2f}%')\n",
    "\n",
    "\n",
    "    def _train_one_epoch(self, data_loader):\n",
    "        \"\"\"Method to train just one epoch\"\"\"\n",
    "        self.model.train()\n",
    "        total_loss = 0\n",
    "        for images, labels in data_loader:\n",
    "            images, labels = images.to(self.device), labels.to(self.device)\n",
    "            outputs = self.model(images)\n",
    "            loss = self.criterion(outputs, labels)\n",
    "\n",
    "            self.optimizer.zero_grad()\n",
    "            loss.backward()\n",
    "            self.optimizer.step()\n",
    "\n",
    "            total_loss += loss.item()\n",
    "        avg_loss = total_loss / len(data_loader)\n",
    "        self.loss.append(avg_loss)\n",
    "    \n",
    "\n",
    "    def training(self):\n",
    "        \"\"\"Training method\"\"\"\n",
    "        config = self.config\n",
    "        # Train the model\n",
    "        for epoch in range(config.params_num_epochs):\n",
    "            self._train_one_epoch(self.train_loader)\n",
    "            self._evaluate(self.val_loader)\n",
    "        \n",
    "        self.save_model()\n",
    "\n",
    "\n",
    "    def save_model(self):\n",
    "        # create_directories([self.config.base_model_path])\n",
    "        torch.save({\n",
    "            'epoch': 0,\n",
    "            'model_state_dict': self.model.state_dict(),\n",
    "            'optimizer_state_dict': self.optimizer.state_dict()\n",
    "            }, self.config.trained_model_path)\n",
    "    \n"
   ]
  },
  {
   "cell_type": "code",
   "execution_count": 61,
   "metadata": {},
   "outputs": [
    {
     "name": "stdout",
     "output_type": "stream",
     "text": [
      "[2024-08-03 21:28:21,460: INFO: common yaml file: config\\config.yaml loaded successfully]\n",
      "[2024-08-03 21:28:21,466: INFO: common yaml file: params.yaml loaded successfully]\n",
      "[2024-08-03 21:28:21,466: INFO: common created directory at: artifacts]\n",
      "[2024-08-03 21:28:21,476: INFO: common created directory at: artifacts/training]\n"
     ]
    }
   ],
   "source": [
    "if __name__ == '__main__':\n",
    "    training_config = ConfigurationManager().get_training_config()\n",
    "    trainer = Training(training_config)\n",
    "    trainer.get_base_model()\n",
    "    trainer.train_val_generator()\n",
    "    trainer.training()"
   ]
  },
  {
   "cell_type": "code",
   "execution_count": null,
   "metadata": {},
   "outputs": [],
   "source": []
  }
 ],
 "metadata": {
  "kernelspec": {
   "display_name": "kidney-disease",
   "language": "python",
   "name": "python3"
  },
  "language_info": {
   "codemirror_mode": {
    "name": "ipython",
    "version": 3
   },
   "file_extension": ".py",
   "mimetype": "text/x-python",
   "name": "python",
   "nbconvert_exporter": "python",
   "pygments_lexer": "ipython3",
   "version": "3.8.19"
  }
 },
 "nbformat": 4,
 "nbformat_minor": 2
}
