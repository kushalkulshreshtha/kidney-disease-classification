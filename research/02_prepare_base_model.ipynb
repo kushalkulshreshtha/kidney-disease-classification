{
 "cells": [
  {
   "cell_type": "code",
   "execution_count": 1,
   "metadata": {},
   "outputs": [],
   "source": [
    "import os"
   ]
  },
  {
   "cell_type": "code",
   "execution_count": 2,
   "metadata": {},
   "outputs": [],
   "source": [
    "os.chdir('..')"
   ]
  },
  {
   "cell_type": "code",
   "execution_count": 3,
   "metadata": {},
   "outputs": [
    {
     "data": {
      "text/plain": [
       "'c:\\\\Users\\\\Kushal\\\\Documents\\\\GitHub\\\\kidney-disease-classification'"
      ]
     },
     "execution_count": 3,
     "metadata": {},
     "output_type": "execute_result"
    }
   ],
   "source": [
    "%pwd"
   ]
  },
  {
   "cell_type": "code",
   "execution_count": 4,
   "metadata": {},
   "outputs": [],
   "source": [
    "from dataclasses import dataclass\n",
    "from pathlib import Path\n",
    "\n",
    "@dataclass(frozen=True)\n",
    "class BaseModelConfig:\n",
    "    root_dir: Path\n",
    "    base_model_path: Path\n",
    "    params_num_epochs: int\n",
    "    params_image_size: list\n",
    "    params_learning_rate: float\n",
    "    params_weight: str\n",
    "    params_classes: int\n"
   ]
  },
  {
   "cell_type": "code",
   "execution_count": 5,
   "metadata": {},
   "outputs": [],
   "source": [
    "from classifier.constants import CONFIG_FILE_PATH, PARAMS_FILE_PATH\n",
    "from classifier.utils.common import read_yaml, create_directories\n",
    "\n",
    "\n",
    "import os\n",
    "import torch\n",
    "import torch.nn as nn\n",
    "import torch.optim as optim\n",
    "import numpy as np\n",
    "import torchvision\n",
    "from torchvision import datasets, models, transforms"
   ]
  },
  {
   "cell_type": "code",
   "execution_count": 6,
   "metadata": {},
   "outputs": [],
   "source": [
    "class ConfigurationManager:\n",
    "    def __init__(self, config_filepath = CONFIG_FILE_PATH, params_filepath = PARAMS_FILE_PATH):\n",
    "        self.config = read_yaml(config_filepath)\n",
    "        self.params = read_yaml(params_filepath)\n",
    "\n",
    "        create_directories([self.config.artifacts_root])\n",
    "\n",
    "    def get_prepare_base_model_config(self)-> BaseModelConfig:\n",
    "        config = self.config.prepare_base_model\n",
    "        create_directories([config.root_dir])\n",
    "\n",
    "        prepare_base_model_config = BaseModelConfig(\n",
    "            root_dir= Path(config.root_dir),\n",
    "            base_model_path = Path(config.base_model_path),\n",
    "            params_num_epochs= self.params.EPOCHS,\n",
    "            params_image_size = self.params.IMAGE_SIZE,\n",
    "            params_learning_rate = self.params.LEARNING_RATE,\n",
    "            params_weight = self.params.WEIGHTS,\n",
    "            params_classes = self.params.CLASSES\n",
    "        )\n",
    "\n",
    "        return prepare_base_model_config"
   ]
  },
  {
   "cell_type": "code",
   "execution_count": 15,
   "metadata": {},
   "outputs": [],
   "source": [
    "class PrepareBaseModel:\n",
    "    def __init__(self, config: BaseModelConfig):\n",
    "        self.config = config\n",
    "\n",
    "    def get_base_model(self):\n",
    "        model = models.resnet18(weights=self.config.params_weight)\n",
    "        optimizer = torch.optim.Adam(model.parameters(), lr = self.config.params_learning_rate)\n",
    "        for param in model.parameters():\n",
    "            param.requires_grad = False\n",
    "        num_ftrs = model.fc.in_features\n",
    "        # Here the size of each output sample is set to 2.\n",
    "        model.fc = nn.Linear(num_ftrs, 2)\n",
    "        self.model = model\n",
    "        self.optimizer = optimizer\n",
    "\n",
    "        self.save_model()\n",
    "\n",
    "\n",
    "    def save_model(self):\n",
    "        # create_directories([self.config.base_model_path])\n",
    "        torch.save({\n",
    "            'epoch': 0,\n",
    "            'model_state_dict': self.model.state_dict(),\n",
    "            'optimizer_state_dict': self.optimizer.state_dict()\n",
    "\n",
    "            }, self.config.base_model_path)"
   ]
  },
  {
   "cell_type": "code",
   "execution_count": 16,
   "metadata": {},
   "outputs": [
    {
     "name": "stdout",
     "output_type": "stream",
     "text": [
      "[2024-08-01 15:22:46,463: INFO: common yaml file: config\\config.yaml loaded successfully]\n",
      "[2024-08-01 15:22:46,466: INFO: common yaml file: params.yaml loaded successfully]\n",
      "[2024-08-01 15:22:46,467: INFO: common created directory at: artifacts]\n",
      "[2024-08-01 15:22:46,468: INFO: common created directory at: artifacts/prepare_base_model]\n"
     ]
    }
   ],
   "source": [
    "cm = ConfigurationManager()\n",
    "bmc = cm.get_prepare_base_model_config()\n",
    "# prep_base_model = PrepareBaseModel()"
   ]
  },
  {
   "cell_type": "code",
   "execution_count": 17,
   "metadata": {},
   "outputs": [],
   "source": [
    "pbm = PrepareBaseModel(bmc)\n",
    "pbm.get_base_model()"
   ]
  },
  {
   "cell_type": "code",
   "execution_count": 19,
   "metadata": {},
   "outputs": [],
   "source": []
  },
  {
   "cell_type": "code",
   "execution_count": null,
   "metadata": {},
   "outputs": [],
   "source": []
  }
 ],
 "metadata": {
  "kernelspec": {
   "display_name": "kidney-disease",
   "language": "python",
   "name": "python3"
  },
  "language_info": {
   "codemirror_mode": {
    "name": "ipython",
    "version": 3
   },
   "file_extension": ".py",
   "mimetype": "text/x-python",
   "name": "python",
   "nbconvert_exporter": "python",
   "pygments_lexer": "ipython3",
   "version": "3.8.19"
  }
 },
 "nbformat": 4,
 "nbformat_minor": 2
}
